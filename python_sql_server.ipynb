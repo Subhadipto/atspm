{
 "cells": [
  {
   "cell_type": "code",
   "execution_count": 99,
   "metadata": {},
   "outputs": [],
   "source": [
    "import pyodbc \n",
    "import pandas as pd\n",
    "import ipywidgets as widgets\n",
    "from ipywidgets import interact, interact_manual\n",
    "from datetime import datetime, timedelta\n",
    "import matplotlib.pyplot as plt"
   ]
  },
  {
   "cell_type": "code",
   "execution_count": 45,
   "metadata": {},
   "outputs": [],
   "source": [
    "conn = pyodbc.connect('Driver={SQL Server};'\n",
    "                      'Server=mrpink;'\n",
    "                      'Database=MOE;'\n",
    "                      'Trusted_Connection=yes;')"
   ]
  },
  {
   "cell_type": "code",
   "execution_count": 48,
   "metadata": {},
   "outputs": [],
   "source": [
    "#query_time_filter = \"SELECT * FROM [ndot_atspm].[dbo].[Controller_Event_Log] WHERE SignalID='86' AND (Timestamp >= '20190710 05:30:58' AND Timestamp <= '20190710 05:35:58') ORDER BY Timestamp ASC;\"\n",
    "#query = \"SELECT * FROM [MOE].[dbo].[Controller_Event_Log_Ndot] WHERE SignalID='86' ORDER BY Timestamp ASC;\"\n",
    "#df= pd.io.sql.read_sql(query, conn)"
   ]
  },
  {
   "cell_type": "code",
   "execution_count": 90,
   "metadata": {},
   "outputs": [],
   "source": [
    "def print_data_within( sig_name, start_date, hour_start, end_date, hour_end):\n",
    "    sig = dbo_Signals[dbo_Signals.Location==sig_name]['SignalID']\n",
    "    start_date =  start_date + timedelta(hours=hour_start)\n",
    "    end_date =  end_date + timedelta(hours=hour_end)\n",
    "    start_date = pd.Timestamp(start_date)\n",
    "    end_date = pd.Timestamp(end_date)\n",
    "    start_date_string = start_date.strftime('%Y%m%d %H:00:00')\n",
    "    end_date_string = end_date.strftime('%Y%m%d %H:00:00')\n",
    "    query = \"SELECT * FROM [MOE].[dbo].[Controller_Event_Log_Ndot] WHERE SignalID='\"+str(sig.iloc[0])+\"' AND (Timestamp >= '\"+ start_date_string +\"' AND Timestamp <=  '\"+ end_date_string +\"') ;\"\n",
    "    stat_df= pd.io.sql.read_sql(query, conn)\n",
    "    total_events = stat_df['EventCode'].nunique()\n",
    "    num_articles = len(stat_df)\n",
    "    approach_volume(stat_df)\n",
    "    \n",
    " "
   ]
  },
  {
   "cell_type": "code",
   "execution_count": 108,
   "metadata": {},
   "outputs": [
    {
     "data": {
      "application/vnd.jupyter.widget-view+json": {
       "model_id": "ad0f424e37a64601907439338c41ddbe",
       "version_major": 2,
       "version_minor": 0
      },
      "text/plain": [
       "VBox(children=(VBox(children=(RadioButtons(description='Select Signal:', options=('ChangeMe & ChangeMe', 'Chan…"
      ]
     },
     "metadata": {},
     "output_type": "display_data"
    }
   ],
   "source": [
    "start_date = widgets.DatePicker(description='Start Date', value=pd.to_datetime('2019-07-10'))\n",
    "\n",
    "end_date = widgets.DatePicker(description='End Date', value=pd.to_datetime('2019-07-10'))\n",
    "\n",
    "hour_start = widgets.IntSlider(description='Start Hour', min=0, max=23,step=1)\n",
    "\n",
    "hour_end = widgets.IntSlider(description='End Hour', min=0, max=23,step=1)\n",
    "\n",
    "#sig_id = widgets.IntSlider(description='Signal ID', min=0, max=180,step=1)\n",
    "\n",
    "dbo_Signals_query =  query = \"SELECT * FROM [MOE].[dbo].[Signals];\"\n",
    "dbo_Signals = pd.io.sql.read_sql(dbo_Signals_query, conn)\n",
    "dbo_Signals['Location'] = dbo_Signals.PrimaryName+\" & \"+dbo_Signals.SecondaryName\n",
    "sig_name = widgets.RadioButtons(\n",
    "    options=dbo_Signals.Location,\n",
    "    description='Select Signal:',\n",
    "    disabled=False\n",
    ")\n",
    "\n",
    "\n",
    "out = widgets.interactive_output(print_data_within, {'sig_name': sig_name, 'start_date': start_date, 'hour_start':hour_start, 'end_date': end_date, 'hour_end':hour_end})\n",
    "widgets.VBox([widgets.VBox([sig_name, start_date,hour_start,end_date,hour_end]), out])"
   ]
  },
  {
   "cell_type": "code",
   "execution_count": 112,
   "metadata": {},
   "outputs": [],
   "source": [
    "def approach_volume(df):\n",
    "    volume_data = df[df.EventCode==82]\n",
    "    dbo_Signals_query =  query = \"SELECT * FROM [MOE].[dbo].[Signals];\"\n",
    "    dbo_Signals = pd.io.sql.read_sql(dbo_Signals_query, conn)\n",
    "\n",
    "    df.groupby(['EventParams']).count()['SignalID'].plot()\n",
    "    #print(df[:3])\n",
    "    "
   ]
  },
  {
   "cell_type": "code",
   "execution_count": 115,
   "metadata": {},
   "outputs": [],
   "source": [
    "import tabpy_client"
   ]
  },
  {
   "cell_type": "code",
   "execution_count": null,
   "metadata": {},
   "outputs": [],
   "source": []
  }
 ],
 "metadata": {
  "kernelspec": {
   "display_name": "Python 3",
   "language": "python",
   "name": "python3"
  },
  "language_info": {
   "codemirror_mode": {
    "name": "ipython",
    "version": 3
   },
   "file_extension": ".py",
   "mimetype": "text/x-python",
   "name": "python",
   "nbconvert_exporter": "python",
   "pygments_lexer": "ipython3",
   "version": "3.6.5"
  }
 },
 "nbformat": 4,
 "nbformat_minor": 2
}
